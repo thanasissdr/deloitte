{
 "cells": [
  {
   "cell_type": "code",
   "execution_count": null,
   "id": "a193a53f",
   "metadata": {},
   "outputs": [],
   "source": [
    "%load_ext nb_black"
   ]
  },
  {
   "cell_type": "code",
   "execution_count": null,
   "id": "ad041d59",
   "metadata": {},
   "outputs": [],
   "source": [
    "import datetime as dt\n",
    "import os.path as osp\n",
    "import datetime as dt\n",
    "from datetime import date, time\n",
    "from functools import partial\n",
    "from typing import List\n",
    "\n",
    "import matplotlib.pyplot as plt\n",
    "import numpy as np\n",
    "import pandas as pd\n",
    "import seaborn as sns\n",
    "\n",
    "from eda.stats.categorical import (\n",
    "    describe as describe_cat,\n",
    "    get_value_counts,\n",
    "    _get_contributions_of_features,\n",
    ")\n",
    "from eda.stats.continuous import describe as describe_continuous\n",
    "from helpers.series_list import bag_of_words_series, get_n_elements, get_unique_values\n",
    "from helpers.read_file import read_feather"
   ]
  },
  {
   "cell_type": "code",
   "execution_count": null,
   "id": "4deb53f7",
   "metadata": {},
   "outputs": [],
   "source": [
    "sns.set(rc={\"figure.figsize\": (15, 8)})"
   ]
  },
  {
   "cell_type": "markdown",
   "id": "d4732872",
   "metadata": {},
   "source": [
    "# Table of contents <a id=\"table_of_contents\">\n",
    "- [Load data](#load_data)\n",
    "- [Distributions](#distributions)\n",
    "    - [Labels](#labels)\n",
    "    - [Continuous](#continuous)\n",
    "    - [Time related](#time_related)\n",
    "    - [Categorical](#categorical)"
   ]
  },
  {
   "cell_type": "markdown",
   "id": "df9c6f2d",
   "metadata": {},
   "source": [
    "# Load data <a  id=\"load_data\"> </a>\n",
    "- [Table of contents](#table_of_contents)"
   ]
  },
  {
   "cell_type": "code",
   "execution_count": null,
   "id": "60ebb12a",
   "metadata": {},
   "outputs": [],
   "source": [
    "TRAINING_DATA_PATH = \"../data/train.fth\"\n",
    "df = read_feather(TRAINING_DATA_PATH)"
   ]
  },
  {
   "cell_type": "code",
   "execution_count": null,
   "id": "212de08b",
   "metadata": {},
   "outputs": [],
   "source": [
    "df.head()"
   ]
  },
  {
   "cell_type": "markdown",
   "id": "16c1e8c5",
   "metadata": {},
   "source": [
    "## Getting the types of the columns"
   ]
  },
  {
   "cell_type": "code",
   "execution_count": null,
   "id": "0a2c6baf",
   "metadata": {},
   "outputs": [],
   "source": [
    "df.info()"
   ]
  },
  {
   "cell_type": "markdown",
   "id": "b2fe9cd9",
   "metadata": {},
   "source": [
    "## Checking for `NaN` values"
   ]
  },
  {
   "cell_type": "code",
   "execution_count": null,
   "id": "5a4f912c",
   "metadata": {},
   "outputs": [],
   "source": [
    "df.isna().sum()"
   ]
  },
  {
   "cell_type": "code",
   "execution_count": null,
   "id": "bae69d93",
   "metadata": {},
   "outputs": [],
   "source": [
    "df.isna().sum() / len(df)"
   ]
  },
  {
   "cell_type": "code",
   "execution_count": null,
   "id": "5c5eb03c",
   "metadata": {},
   "outputs": [],
   "source": [
    "df[\"TransactionID\"].is_unique"
   ]
  },
  {
   "cell_type": "markdown",
   "id": "9778e468",
   "metadata": {},
   "source": [
    "## Errors?"
   ]
  },
  {
   "cell_type": "code",
   "execution_count": null,
   "id": "7bb5a3fb",
   "metadata": {},
   "outputs": [],
   "source": [
    "errors_series = df[\"Errors?\"]\n",
    "errors_series"
   ]
  },
  {
   "cell_type": "code",
   "execution_count": null,
   "id": "fe816bc9",
   "metadata": {},
   "outputs": [],
   "source": [
    "describe_cat(errors_series)"
   ]
  },
  {
   "cell_type": "code",
   "execution_count": null,
   "id": "18fd0be5",
   "metadata": {},
   "outputs": [],
   "source": [
    "errors_series.value_counts()"
   ]
  },
  {
   "cell_type": "code",
   "execution_count": null,
   "id": "e4b7e48b",
   "metadata": {},
   "outputs": [],
   "source": [
    "errors_series.value_counts().sum()"
   ]
  },
  {
   "cell_type": "code",
   "execution_count": null,
   "id": "8f04fa57",
   "metadata": {},
   "outputs": [],
   "source": [
    "errors_series.value_counts().sum() / len(errors_series)"
   ]
  },
  {
   "cell_type": "markdown",
   "id": "e81c4054",
   "metadata": {},
   "source": [
    "It seems that the transactions that have at least one type of error are around $1.58\\%$"
   ]
  },
  {
   "cell_type": "code",
   "execution_count": null,
   "id": "2352df6c",
   "metadata": {
    "scrolled": true
   },
   "outputs": [],
   "source": [
    "get_value_counts(errors_series)"
   ]
  },
  {
   "cell_type": "code",
   "execution_count": null,
   "id": "eb7b214a",
   "metadata": {},
   "outputs": [],
   "source": [
    "unique_errors = get_unique_values(errors_series)\n",
    "unique_errors"
   ]
  },
  {
   "cell_type": "code",
   "execution_count": null,
   "id": "d9892ead",
   "metadata": {},
   "outputs": [],
   "source": [
    "bag_of_words_errors = bag_of_words_series(errors_series)\n",
    "bag_of_words_errors"
   ]
  },
  {
   "cell_type": "code",
   "execution_count": null,
   "id": "72b896be",
   "metadata": {},
   "outputs": [],
   "source": [
    "n_errors_series = get_n_elements(errors_series)\n",
    "n_errors_series.head()"
   ]
  },
  {
   "cell_type": "code",
   "execution_count": null,
   "id": "12ae26fa",
   "metadata": {},
   "outputs": [],
   "source": [
    "errors_indicator_series = pd.Series(np.where(n_errors_series > 0, 1, 0))\n",
    "errors_indicator_series"
   ]
  },
  {
   "cell_type": "code",
   "execution_count": null,
   "id": "d50964be",
   "metadata": {},
   "outputs": [],
   "source": [
    "df[\"candidate_label\"] = errors_indicator_series"
   ]
  },
  {
   "cell_type": "markdown",
   "id": "23c6b87c",
   "metadata": {},
   "source": [
    "We notice that out of all transactionns that have at least one error, `Insufficient balance` is the prevalent category (with being also in other categories which have at least two kind of errors). "
   ]
  },
  {
   "cell_type": "markdown",
   "id": "26c9f3aa",
   "metadata": {},
   "source": [
    "# Create a datetime field from `Year`, `Month`, `Day` "
   ]
  },
  {
   "cell_type": "code",
   "execution_count": null,
   "id": "612262e0",
   "metadata": {},
   "outputs": [],
   "source": [
    "df[\"date\"] = df.apply(\n",
    "    lambda row: dt.datetime(int(row[\"Year\"]), int(row[\"Month\"]), int(row[\"Day\"])),\n",
    "    axis=1,\n",
    ")"
   ]
  },
  {
   "cell_type": "markdown",
   "id": "9c16ef02",
   "metadata": {},
   "source": [
    "# Distributions <a id=\"distributions\">\n",
    "- [Table of contents](#table_of_contents)"
   ]
  },
  {
   "cell_type": "markdown",
   "id": "5ded8777",
   "metadata": {},
   "source": [
    "## Card"
   ]
  },
  {
   "cell_type": "code",
   "execution_count": null,
   "id": "25c858ed",
   "metadata": {},
   "outputs": [],
   "source": [
    "feature_name = \"Card\"\n",
    "describe_cat(df[feature_name])"
   ]
  },
  {
   "cell_type": "code",
   "execution_count": null,
   "id": "29e959ce",
   "metadata": {},
   "outputs": [],
   "source": [
    "ax = sns.histplot(\n",
    "    data=df,\n",
    "    x=feature_name,\n",
    "    hue=\"candidate_label\",\n",
    "    common_norm=False,\n",
    "    multiple=\"dodge\",\n",
    "    stat=\"percent\",\n",
    ")\n",
    "\n",
    "\n",
    "plt.xticks(rotation=80)\n"
   ]
  },
  {
   "cell_type": "markdown",
   "id": "a9cf685d",
   "metadata": {},
   "source": [
    "## Time related (cyclical) features"
   ]
  },
  {
   "cell_type": "markdown",
   "id": "7f996da1",
   "metadata": {},
   "source": [
    "### Year"
   ]
  },
  {
   "cell_type": "markdown",
   "id": "40846fbc",
   "metadata": {},
   "source": [
    "### Month"
   ]
  },
  {
   "cell_type": "code",
   "execution_count": null,
   "id": "e078fdf3",
   "metadata": {},
   "outputs": [],
   "source": [
    "MONTHS = [\n",
    "    \"Jan\",\n",
    "    \"Feb\",\n",
    "    \"Mar\",\n",
    "    \"Apr\",\n",
    "    \"May\",\n",
    "    \"Jun\",\n",
    "    \"Jul\",\n",
    "    \"Aug\",\n",
    "    \"Sep\",\n",
    "    \"Oct\",\n",
    "    \"Nov\",\n",
    "    \"Dec\",\n",
    "]"
   ]
  },
  {
   "cell_type": "code",
   "execution_count": null,
   "id": "2692ab8b",
   "metadata": {},
   "outputs": [],
   "source": [
    "feature_name = \"Month\"\n",
    "\n",
    "ax = sns.histplot(\n",
    "    data=df,\n",
    "    x=feature_name,\n",
    "    hue=\"candidate_label\",\n",
    "    common_norm=False,\n",
    "    multiple=\"dodge\",\n",
    "    stat=\"percent\",\n",
    "    bins=24,\n",
    ")\n",
    "\n",
    "ax.set_xticks(np.arange(1, 13, 1))\n",
    "ax.set_xticklabels(MONTHS)\n",
    "\n",
    "ax.set_ylabel(\"Percentage\")\n",
    "ax.set_xlabel(f\"{feature_name}\")\n",
    "\n"
   ]
  },
  {
   "cell_type": "markdown",
   "id": "8ff26e75",
   "metadata": {},
   "source": [
    "### Day of week"
   ]
  },
  {
   "cell_type": "code",
   "execution_count": null,
   "id": "9fdbe80a",
   "metadata": {},
   "outputs": [],
   "source": [
    "DAYS = [\"Mon\", \"Tue\", \"Wed\", \"Thu\", \"Fri\", \"Sat\", \"Sun\"]\n",
    "\n",
    "df[\"day_of_week\"] = df[\"date\"].dt.dayofweek"
   ]
  },
  {
   "cell_type": "code",
   "execution_count": null,
   "id": "477bb7f0",
   "metadata": {},
   "outputs": [],
   "source": [
    "feature_name = \"day_of_week\"\n",
    "\n",
    "ax = sns.histplot(\n",
    "    data=df,\n",
    "    x=feature_name,\n",
    "    hue=\"candidate_label\",\n",
    "    common_norm=False,\n",
    "    multiple=\"dodge\",\n",
    "    stat=\"percent\",\n",
    "    bins=14,\n",
    ")\n",
    "\n",
    "ax.set_xticks(np.arange(0, 7, 1))\n",
    "ax.set_xticklabels(DAYS)\n",
    "\n",
    "ax.set_ylabel(\"Percentage\")\n",
    "ax.set_xlabel(f\"{feature_name}\")\n"
   ]
  },
  {
   "cell_type": "markdown",
   "id": "ebf0ad5c",
   "metadata": {},
   "source": [
    "### Hour"
   ]
  },
  {
   "cell_type": "code",
   "execution_count": null,
   "id": "5fe8b92e",
   "metadata": {},
   "outputs": [],
   "source": [
    "TIME_FORMAT = \"%H:%M\"\n",
    "df[\"hour\"] = df[\"Time\"].apply(lambda x: dt.datetime.strptime(x, TIME_FORMAT)).dt.hour"
   ]
  },
  {
   "cell_type": "code",
   "execution_count": null,
   "id": "a9d45492",
   "metadata": {},
   "outputs": [],
   "source": [
    "feature_name = \"hour\"\n",
    "\n",
    "ax = sns.histplot(\n",
    "    data=df,\n",
    "    x=feature_name,\n",
    "    hue=\"candidate_label\",\n",
    "    common_norm=False,\n",
    "    multiple=\"dodge\",\n",
    "    stat=\"percent\",\n",
    "    bins=48,\n",
    ")\n",
    "ax.set_xticks(np.arange(0, 24, 1))\n",
    "ax.set_ylabel(\"Percentage\")\n",
    "ax.set_xlabel(\"Time (Hour) in a Day\")\n"
   ]
  },
  {
   "cell_type": "markdown",
   "id": "4d85a162",
   "metadata": {},
   "source": [
    "We can see that the hours 7, 14, 15, 17 and 19 we have more transactions (as a ratio) related to some kind of error."
   ]
  },
  {
   "cell_type": "markdown",
   "id": "b6b62c86",
   "metadata": {},
   "source": [
    "## Amount"
   ]
  },
  {
   "cell_type": "code",
   "execution_count": null,
   "id": "75de884a",
   "metadata": {},
   "outputs": [],
   "source": [
    "feature_name = \"Amount\""
   ]
  },
  {
   "cell_type": "code",
   "execution_count": null,
   "id": "2b29d0ae",
   "metadata": {},
   "outputs": [],
   "source": [
    "try:\n",
    "    df[feature_name] = df[feature_name].apply(lambda x: float(x[1:]))\n",
    "except:\n",
    "    pass"
   ]
  },
  {
   "cell_type": "code",
   "execution_count": null,
   "id": "447a9709",
   "metadata": {},
   "outputs": [],
   "source": [
    "describe_continuous(df[feature_name], fmt=\".4f\")"
   ]
  },
  {
   "cell_type": "code",
   "execution_count": null,
   "id": "6613b9b9",
   "metadata": {},
   "outputs": [],
   "source": [
    "negative_amounts_df = df[df[\"Amount\"] < 0]"
   ]
  },
  {
   "cell_type": "code",
   "execution_count": null,
   "id": "5b857b64",
   "metadata": {},
   "outputs": [],
   "source": [
    "sns.histplot(\n",
    "    negative_amounts_df,\n",
    "    x=feature_name,\n",
    "    hue=\"candidate_label\",\n",
    "    common_norm=False,\n",
    "    stat=\"percent\",\n",
    "    multiple=\"dodge\",\n",
    ")"
   ]
  },
  {
   "cell_type": "markdown",
   "id": "b3062003",
   "metadata": {},
   "source": [
    "There is an indication that where the value is from 0 to -100 it is more likely to report an error."
   ]
  },
  {
   "cell_type": "code",
   "execution_count": null,
   "id": "3ac924a9",
   "metadata": {},
   "outputs": [],
   "source": [
    "sns.histplot(\n",
    "    df[df[feature_name].between(-100, 0)],\n",
    "    x=feature_name,\n",
    "    hue=\"candidate_label\",\n",
    "    common_norm=False,\n",
    "    stat=\"percent\",\n",
    "    multiple=\"dodge\",\n",
    ")"
   ]
  },
  {
   "cell_type": "code",
   "execution_count": null,
   "id": "546efd0b",
   "metadata": {},
   "outputs": [],
   "source": [
    "np.percentile(df[feature_name], 99)"
   ]
  },
  {
   "cell_type": "markdown",
   "id": "fef4b3cf",
   "metadata": {},
   "source": [
    "## Use Chip"
   ]
  },
  {
   "cell_type": "code",
   "execution_count": null,
   "id": "f4070fac",
   "metadata": {},
   "outputs": [],
   "source": [
    "feature_name = \"Use Chip\"\n",
    "\n",
    "ax = sns.histplot(\n",
    "    data=df,\n",
    "    x=feature_name,\n",
    "    hue=\"candidate_label\",\n",
    "    common_norm=False,\n",
    "    multiple=\"dodge\",\n",
    "    stat=\"percent\",\n",
    "    bins=3,\n",
    ")\n",
    "\n",
    "ax.set_ylabel(\"Percentage\")\n",
    "ax.set_xlabel(f\"{feature_name}\")"
   ]
  },
  {
   "cell_type": "markdown",
   "id": "4080146b",
   "metadata": {},
   "source": [
    "### Merchant Name"
   ]
  },
  {
   "cell_type": "code",
   "execution_count": null,
   "id": "110638b2",
   "metadata": {},
   "outputs": [],
   "source": [
    "feature_name = \"Merchant Name\""
   ]
  },
  {
   "cell_type": "code",
   "execution_count": null,
   "id": "a8994a6b",
   "metadata": {},
   "outputs": [],
   "source": [
    "describe_cat(df[feature_name])"
   ]
  },
  {
   "cell_type": "code",
   "execution_count": null,
   "id": "9fcf59c3",
   "metadata": {},
   "outputs": [],
   "source": [
    "get_value_counts(df[feature_name])"
   ]
  },
  {
   "cell_type": "code",
   "execution_count": null,
   "id": "802322d6",
   "metadata": {},
   "outputs": [],
   "source": [
    "feature_name = \"Merchant Name\""
   ]
  },
  {
   "cell_type": "code",
   "execution_count": null,
   "id": "d4dfce7b",
   "metadata": {},
   "outputs": [],
   "source": [
    "get_contributions_of_features = partial(\n",
    "    _get_contributions_of_features,\n",
    "    df=df,\n",
    "    errors_indicator_series=errors_indicator_series,\n",
    ")\n",
    "get_contributions_of_features(\"Merchant Name\")"
   ]
  },
  {
   "cell_type": "markdown",
   "id": "8195034b",
   "metadata": {},
   "source": [
    "<div class='alert alert-info'>\n",
    "    \n",
    "We want to examine what specific `Merchant Name` appears more in transactions with errors or not. In order to do so, we evalute the contribution (ratio) of each Merchant Name appearing in transactions with errors or in transactions without errors.\n",
    "    \n",
    "</div>"
   ]
  },
  {
   "cell_type": "markdown",
   "id": "e5fefcfe",
   "metadata": {},
   "source": [
    "### Merchant City"
   ]
  },
  {
   "cell_type": "code",
   "execution_count": null,
   "id": "6b153f3f",
   "metadata": {},
   "outputs": [],
   "source": [
    "feature_name = \"Merchant City\""
   ]
  },
  {
   "cell_type": "code",
   "execution_count": null,
   "id": "e615cefc",
   "metadata": {},
   "outputs": [],
   "source": [
    "describe_cat(df[feature_name])"
   ]
  },
  {
   "cell_type": "code",
   "execution_count": null,
   "id": "fd963634",
   "metadata": {},
   "outputs": [],
   "source": [
    "get_value_counts(df[feature_name])"
   ]
  },
  {
   "cell_type": "code",
   "execution_count": null,
   "id": "6ea498a6",
   "metadata": {
    "scrolled": true
   },
   "outputs": [],
   "source": [
    "get_contributions_of_features(feature_name)"
   ]
  },
  {
   "cell_type": "markdown",
   "id": "4e808896",
   "metadata": {},
   "source": [
    "We want to examine what specific `Merchant City` appears more in transactions with errors or not. In order to do so, we evalute the contribution (ratio) of each Merchant Name appearing in transactions with errors or in transactions without errors. We notice that ONLINE transaction tend to be associated a bit more with transactions with errors, but still quite low."
   ]
  },
  {
   "cell_type": "markdown",
   "id": "0eac184a",
   "metadata": {},
   "source": [
    "## Merchant State"
   ]
  },
  {
   "cell_type": "code",
   "execution_count": null,
   "id": "b838b050",
   "metadata": {},
   "outputs": [],
   "source": [
    "feature_name = \"Merchant State\""
   ]
  },
  {
   "cell_type": "code",
   "execution_count": null,
   "id": "0189a4b1",
   "metadata": {},
   "outputs": [],
   "source": [
    "describe_cat(df[feature_name])"
   ]
  },
  {
   "cell_type": "code",
   "execution_count": null,
   "id": "d9544e99",
   "metadata": {},
   "outputs": [],
   "source": [
    "get_contributions_of_features(feature_name)"
   ]
  },
  {
   "cell_type": "markdown",
   "id": "56c29c67",
   "metadata": {},
   "source": [
    "We want to examine what specific `Merchant State` appears more in transactions with errors or not. In order to do so, we evalute the contribution (ratio) of each Merchant Name appearing in transactions with errors or in transactions without errors. We notice that ONLINE tends to be associated a bit more with transactions with errors, but still quite low."
   ]
  },
  {
   "cell_type": "markdown",
   "id": "cb97ea16",
   "metadata": {},
   "source": [
    "## MCC"
   ]
  },
  {
   "cell_type": "code",
   "execution_count": null,
   "id": "93aca026",
   "metadata": {},
   "outputs": [],
   "source": [
    "feature_name = \"MCC\""
   ]
  },
  {
   "cell_type": "code",
   "execution_count": null,
   "id": "c1c35411",
   "metadata": {},
   "outputs": [],
   "source": [
    "get_contributions_of_features(feature_name)"
   ]
  },
  {
   "cell_type": "markdown",
   "id": "73d3cd8e",
   "metadata": {},
   "source": [
    "# <font color='green'> TEST </font>"
   ]
  }
 ],
 "metadata": {
  "kernelspec": {
   "display_name": "Python 3 (ipykernel)",
   "language": "python",
   "name": "python3"
  },
  "language_info": {
   "codemirror_mode": {
    "name": "ipython",
    "version": 3
   },
   "file_extension": ".py",
   "mimetype": "text/x-python",
   "name": "python",
   "nbconvert_exporter": "python",
   "pygments_lexer": "ipython3",
   "version": "3.10.8"
  }
 },
 "nbformat": 4,
 "nbformat_minor": 5
}
