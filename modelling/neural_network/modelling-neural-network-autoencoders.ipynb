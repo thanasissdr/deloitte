{
 "cells": [
  {
   "cell_type": "code",
   "execution_count": null,
   "id": "370f11ff",
   "metadata": {},
   "outputs": [],
   "source": [
    "%load_ext nb_black"
   ]
  },
  {
   "cell_type": "code",
   "execution_count": null,
   "id": "f5d2efd2",
   "metadata": {},
   "outputs": [],
   "source": [
    "import datetime as dt\n",
    "\n",
    "import matplotlib.pyplot as plt\n",
    "import numpy as np\n",
    "import pandas as pd\n",
    "import seaborn as sns\n",
    "import tensorflow as tf\n",
    "from sklearn.compose import ColumnTransformer\n",
    "\n",
    "from sklearn.model_selection import train_test_split\n",
    "from sklearn.pipeline import FunctionTransformer, FeatureUnion, Pipeline\n",
    "from sklearn.preprocessing import OneHotEncoder, StandardScaler\n",
    "from tensorflow.keras.callbacks import EarlyStopping, ReduceLROnPlateau\n",
    "from tensorflow.keras.layers import Dense, Dropout\n",
    "from tensorflow.keras.losses import SparseCategoricalCrossentropy, BinaryCrossentropy\n",
    "from tensorflow.keras.models import Model, Sequential\n",
    "from tensorflow.keras.optimizers import Adam\n",
    "from tensorflow.keras.utils import set_random_seed\n",
    "\n",
    "\n",
    "from helpers.profiling import timing\n",
    "from helpers.series_list import bag_of_words_series, get_n_elements\n",
    "from modelling.utils.performance import (\n",
    "    get_classification_report,\n",
    "    plot_conf_matrix,\n",
    "    plot_precision_recall_curve_over_thresholds,\n",
    "    plot_precision_recall_curve,\n",
    ")\n",
    "\n",
    "\n",
    "from helpers.read_file import read_feather\n",
    "from pipelines.preprocessing_pandas import (\n",
    "    create_cos,\n",
    "    create_sin,\n",
    "    extract_hour_str,\n",
    "    extract_weekday_timestamp,\n",
    "    frequency_encoding,\n",
    ")"
   ]
  },
  {
   "cell_type": "code",
   "execution_count": null,
   "id": "62ca9460",
   "metadata": {},
   "outputs": [],
   "source": [
    "plt.style.use(\"ggplot\")"
   ]
  },
  {
   "cell_type": "markdown",
   "id": "2c3d5d4f",
   "metadata": {},
   "source": [
    "# Load data"
   ]
  },
  {
   "cell_type": "code",
   "execution_count": null,
   "id": "352766d1",
   "metadata": {},
   "outputs": [],
   "source": [
    "df = read_feather(\"../../data/train.fth\")\n",
    "df.head()"
   ]
  },
  {
   "cell_type": "code",
   "execution_count": null,
   "id": "a2c12fe9",
   "metadata": {},
   "outputs": [],
   "source": [
    "df[\"date\"] = df.apply(\n",
    "    lambda row: dt.datetime(int(row[\"Year\"]), int(row[\"Month\"]), int(row[\"Day\"])),\n",
    "    axis=1,\n",
    ")"
   ]
  },
  {
   "cell_type": "code",
   "execution_count": null,
   "id": "0a59e1a4",
   "metadata": {},
   "outputs": [],
   "source": [
    "errors_series = df[\"Errors?\"]"
   ]
  },
  {
   "cell_type": "code",
   "execution_count": null,
   "id": "3ac56c1c",
   "metadata": {},
   "outputs": [],
   "source": [
    "n_errors_series = get_n_elements(errors_series)\n",
    "errors_indicator_series = pd.Series(np.where(n_errors_series > 0, 1, 0))\n",
    "\n",
    "df[\"errors_indicator\"] = errors_indicator_series"
   ]
  },
  {
   "cell_type": "code",
   "execution_count": null,
   "id": "8cfd1d74",
   "metadata": {},
   "outputs": [],
   "source": [
    "df[\"Amount\"] = df[\"Amount\"].apply(lambda x: float(x[1:]))"
   ]
  },
  {
   "cell_type": "code",
   "execution_count": null,
   "id": "f80344fc",
   "metadata": {},
   "outputs": [],
   "source": [
    "df[\"Merchant State\"] = df[\"Merchant State\"].fillna(\"\")"
   ]
  },
  {
   "cell_type": "code",
   "execution_count": null,
   "id": "1dc95dc5",
   "metadata": {},
   "outputs": [],
   "source": [
    "bag_of_words = bag_of_words_series(errors_series)"
   ]
  },
  {
   "cell_type": "code",
   "execution_count": null,
   "id": "78b2ad43",
   "metadata": {},
   "outputs": [],
   "source": [
    "df = pd.concat([df, bag_of_words], axis=1, sort=False)"
   ]
  },
  {
   "cell_type": "code",
   "execution_count": null,
   "id": "7fc7d8bf",
   "metadata": {},
   "outputs": [],
   "source": [
    "df.iloc[:1].columns"
   ]
  },
  {
   "cell_type": "markdown",
   "id": "bb37af55",
   "metadata": {},
   "source": [
    "# Split train, test sets"
   ]
  },
  {
   "cell_type": "code",
   "execution_count": null,
   "id": "110c3529",
   "metadata": {},
   "outputs": [],
   "source": [
    "X_train, X_test = train_test_split(\n",
    "    df, stratify=errors_indicator_series, test_size=0.2, random_state=42\n",
    ")"
   ]
  },
  {
   "cell_type": "code",
   "execution_count": null,
   "id": "c422f17c",
   "metadata": {},
   "outputs": [],
   "source": [
    "# Train autoencoder only on transactions without errors\n",
    "\n",
    "X_train = X_train[X_train[\"Errors?\"] != X_train[\"Errors?\"]]\n",
    "X_train"
   ]
  },
  {
   "cell_type": "markdown",
   "id": "3f18b55a",
   "metadata": {},
   "source": [
    "# Preprocess data / creating pipelines"
   ]
  },
  {
   "cell_type": "code",
   "execution_count": null,
   "id": "4bf2da90",
   "metadata": {},
   "outputs": [],
   "source": [
    "frequency_encoding_fn = FunctionTransformer(\n",
    "    frequency_encoding, kw_args={\"normalize\": False}\n",
    ")\n",
    "\n",
    "ohe_fn = OneHotEncoder(handle_unknown=\"ignore\")\n",
    "\n",
    "scaler_fn = StandardScaler(with_mean=True, with_std=True)"
   ]
  },
  {
   "cell_type": "code",
   "execution_count": null,
   "id": "c7b58ca7",
   "metadata": {},
   "outputs": [],
   "source": [
    "def create_cyclical_feature_fn(raw_feature: str, period: int) -> FeatureUnion:\n",
    "    return FeatureUnion(\n",
    "        [\n",
    "            (\n",
    "                f\"{raw_feature}_sin\",\n",
    "                FunctionTransformer(create_sin, kw_args={\"period\": period}),\n",
    "            ),\n",
    "            (\n",
    "                f\"{raw_feature}_cos\",\n",
    "                FunctionTransformer(create_cos, kw_args={\"period\": period}),\n",
    "            ),\n",
    "        ]\n",
    "    )"
   ]
  },
  {
   "cell_type": "markdown",
   "id": "3ec4c0d4",
   "metadata": {},
   "source": [
    "## Card"
   ]
  },
  {
   "cell_type": "code",
   "execution_count": null,
   "id": "523cea4c",
   "metadata": {},
   "outputs": [],
   "source": [
    "card_pipeline = ohe_fn"
   ]
  },
  {
   "cell_type": "markdown",
   "id": "f315528e",
   "metadata": {},
   "source": [
    "## Month"
   ]
  },
  {
   "cell_type": "code",
   "execution_count": null,
   "id": "e4d81481",
   "metadata": {},
   "outputs": [],
   "source": [
    "month_pipeline = create_cyclical_feature_fn(\"Month\", period=12)"
   ]
  },
  {
   "cell_type": "markdown",
   "id": "bdaba765",
   "metadata": {},
   "source": [
    "## Day "
   ]
  },
  {
   "cell_type": "code",
   "execution_count": null,
   "id": "81355e2e",
   "metadata": {},
   "outputs": [],
   "source": [
    "day_pipeline = create_cyclical_feature_fn(\"Day\", period=31)"
   ]
  },
  {
   "cell_type": "code",
   "execution_count": null,
   "id": "9a40a404",
   "metadata": {},
   "outputs": [],
   "source": [
    "weekday_pipeline = Pipeline(\n",
    "    [\n",
    "        (\n",
    "            \"extract_weekday\",\n",
    "            FunctionTransformer(extract_weekday_timestamp),\n",
    "        ),\n",
    "        (\"ohe\", ohe_fn),\n",
    "    ]\n",
    ")"
   ]
  },
  {
   "cell_type": "markdown",
   "id": "ad09c82c",
   "metadata": {},
   "source": [
    "## Time"
   ]
  },
  {
   "cell_type": "code",
   "execution_count": null,
   "id": "02eeffd9",
   "metadata": {},
   "outputs": [],
   "source": [
    "hour_sin = FunctionTransformer(create_sin, kw_args={\"period\": 24})\n",
    "hour_cos = FunctionTransformer(create_cos, kw_args={\"period\": 24})\n",
    "\n",
    "hour_trig = FeatureUnion([(\"hour_sin\", hour_sin), (\"hour_cos\", hour_cos)])"
   ]
  },
  {
   "cell_type": "code",
   "execution_count": null,
   "id": "e54031f2",
   "metadata": {},
   "outputs": [],
   "source": [
    "hour_pipeline = Pipeline(\n",
    "    [\n",
    "        (\n",
    "            \"extract_hour\",\n",
    "            FunctionTransformer(extract_hour_str, kw_args={\"time_format\": \"%H:%M\"}),\n",
    "        ),\n",
    "        (\"hour_trig\", hour_trig),\n",
    "    ]\n",
    ")"
   ]
  },
  {
   "cell_type": "markdown",
   "id": "a1438816",
   "metadata": {},
   "source": [
    "## Amount"
   ]
  },
  {
   "cell_type": "code",
   "execution_count": null,
   "id": "4de6778f",
   "metadata": {},
   "outputs": [],
   "source": [
    "amount_pipeline = Pipeline([(\"scale\", scaler_fn)])"
   ]
  },
  {
   "cell_type": "markdown",
   "id": "7a1c2edc",
   "metadata": {},
   "source": [
    "## Use Chip"
   ]
  },
  {
   "cell_type": "code",
   "execution_count": null,
   "id": "a0523b0a",
   "metadata": {},
   "outputs": [],
   "source": [
    "use_chip_pipeline = ohe_fn"
   ]
  },
  {
   "cell_type": "markdown",
   "id": "b01d1505",
   "metadata": {},
   "source": [
    "## Merchant Name"
   ]
  },
  {
   "cell_type": "code",
   "execution_count": null,
   "id": "4d208ea9",
   "metadata": {},
   "outputs": [],
   "source": [
    "merchant_name_pipeline = Pipeline(\n",
    "        [(\n",
    "            \"merchant_name\",\n",
    "            frequency_encoding_fn),\n",
    "            ('scaler', scaler_fn)\n",
    "        ]\n",
    "    )\n"
   ]
  },
  {
   "cell_type": "markdown",
   "id": "c19f456f",
   "metadata": {},
   "source": [
    "## Merchant City"
   ]
  },
  {
   "cell_type": "code",
   "execution_count": null,
   "id": "f1fbd303",
   "metadata": {},
   "outputs": [],
   "source": [
    "merchant_city_pipeline = Pipeline(\n",
    "    [(\"merchant_city\", frequency_encoding_fn), (\"scaler\", scaler_fn)]\n",
    ")"
   ]
  },
  {
   "cell_type": "markdown",
   "id": "e378dacf",
   "metadata": {},
   "source": [
    "## Merchant State"
   ]
  },
  {
   "cell_type": "code",
   "execution_count": null,
   "id": "5a15b8f1",
   "metadata": {},
   "outputs": [],
   "source": [
    "merchant_state_pipeline = Pipeline(\n",
    "        [(\n",
    "            \"merchant_state\",\n",
    "            frequency_encoding_fn\n",
    "        ),\n",
    "            (\"scaler\", scaler_fn)\n",
    "        ]\n",
    "    )\n"
   ]
  },
  {
   "cell_type": "markdown",
   "id": "7e67cc35",
   "metadata": {},
   "source": [
    "## MCC"
   ]
  },
  {
   "cell_type": "code",
   "execution_count": null,
   "id": "a77c72d5",
   "metadata": {},
   "outputs": [],
   "source": [
    "mcc_pipeline = Pipeline([(\"mcc\", frequency_encoding_fn), (\"scaler\", scaler_fn)])"
   ]
  },
  {
   "cell_type": "markdown",
   "id": "0d33bc93",
   "metadata": {},
   "source": [
    "## Creating pipeline"
   ]
  },
  {
   "cell_type": "code",
   "execution_count": null,
   "id": "935b5788",
   "metadata": {},
   "outputs": [],
   "source": [
    "pipeline = ColumnTransformer(\n",
    "    [\n",
    "        #         (\n",
    "        #             \"passthrough\",\n",
    "        #             \"passthrough\",\n",
    "        #             [\n",
    "        #                 \"Errors?_Insufficient Balance\",\n",
    "        #                 \"Errors?_Bad Expiration\",\n",
    "        #                 \"Errors?_Bad Zipcode\",\n",
    "        #                 \"Errors?_Technical Glitch\",\n",
    "        #                 \"Errors?_Bad Card Number\",\n",
    "        #                 \"Errors?_Bad CVV\",\n",
    "        #                 \"Errors?_Bad PIN\",\n",
    "        #             ],\n",
    "        #         ),\n",
    "        (\"Amount\", amount_pipeline, [\"Amount\"]),\n",
    "        (\"Hour\", hour_pipeline, [\"Time\"]),\n",
    "        (\"weekday_pipeline\", weekday_pipeline, [\"date\"]),\n",
    "        #         (\"Use Chip\", use_chip_pipeline, [\"Use Chip\"]),\n",
    "        #         (\"Merchant Name\", merchant_name_pipeline, \"Merchant Name\"),\n",
    "        #         (\"Merchant City\", merchant_city_pipeline, \"Merchant City\"),\n",
    "        #         (\"Merchant State\", merchant_state_pipeline, \"Merchant State\"),\n",
    "        #         (\"MCC\", mcc_pipeline, \"MCC\"),\n",
    "    ],\n",
    ")"
   ]
  },
  {
   "cell_type": "code",
   "execution_count": null,
   "id": "f185e13d",
   "metadata": {},
   "outputs": [],
   "source": [
    "X_train_prepared = pipeline.fit_transform(X_train)\n",
    "X_train_prepared = pd.DataFrame(X_train_prepared).fillna(0).values"
   ]
  },
  {
   "cell_type": "code",
   "execution_count": null,
   "id": "4b4442c0",
   "metadata": {},
   "outputs": [],
   "source": [
    "X_test_prepared = pipeline.transform(X_test)\n",
    "X_test_prepared = pd.DataFrame(X_test_prepared).fillna(0).values\n"
   ]
  },
  {
   "cell_type": "markdown",
   "id": "c5b28023",
   "metadata": {},
   "source": [
    "# Create model"
   ]
  },
  {
   "cell_type": "markdown",
   "id": "f38a0b2b",
   "metadata": {},
   "source": [
    "## Define extra steps during training"
   ]
  },
  {
   "cell_type": "code",
   "execution_count": null,
   "id": "8b8a69ae",
   "metadata": {},
   "outputs": [],
   "source": [
    "early_stopping = EarlyStopping(\n",
    "    monitor=\"val_loss\",\n",
    "    min_delta=0,\n",
    "    patience=10,\n",
    "    verbose=1,\n",
    "    mode=\"auto\",\n",
    "    baseline=None,\n",
    "    restore_best_weights=False,\n",
    ")\n",
    "\n",
    "reduce_lr_on_plateau = ReduceLROnPlateau(\n",
    "    monitor=\"val_loss\",\n",
    "    factor=0.1,\n",
    "    patience=10,\n",
    "    verbose=0,\n",
    "    mode=\"auto\",\n",
    "    min_delta=0.0001,\n",
    "    cooldown=0,\n",
    "    min_lr=0,\n",
    ")\n",
    "\n"
   ]
  },
  {
   "cell_type": "code",
   "execution_count": null,
   "id": "5ded34cd",
   "metadata": {},
   "outputs": [],
   "source": [
    "X_train_prepared.shape[1]"
   ]
  },
  {
   "cell_type": "code",
   "execution_count": null,
   "id": "89940fb3",
   "metadata": {},
   "outputs": [],
   "source": [
    "set_random_seed(42)\n",
    "n_features = X_train_prepared.shape[1]\n",
    "\n",
    "encoder = Sequential(\n",
    "    [\n",
    "        Dense(\n",
    "            units=10,\n",
    "            kernel_initializer=\"he_normal\",\n",
    "            activation=\"relu\",\n",
    "            input_shape=(n_features,),\n",
    "        ),\n",
    "        Dropout(0.2),\n",
    "        Dense(units=5, kernel_initializer=\"he_normal\", activation=\"relu\"),\n",
    "    ]\n",
    ")\n",
    "\n",
    "\n",
    "# Decoder layers\n",
    "decoder = tf.keras.Sequential(\n",
    "    [\n",
    "        Dense(\n",
    "            units=10,\n",
    "            kernel_initializer=\"he_normal\",\n",
    "            activation=\"relu\",\n",
    "            input_shape=(5,),\n",
    "        ),\n",
    "        Dropout(0.2),\n",
    "        Dense(units=n_features, activation=\"sigmoid\"),\n",
    "    ]\n",
    ")\n",
    "\n",
    "\n",
    "autoencoder = Sequential([encoder, decoder])"
   ]
  },
  {
   "cell_type": "code",
   "execution_count": null,
   "id": "7b7eb679",
   "metadata": {},
   "outputs": [],
   "source": [
    "# Compile the autoencoder\n",
    "autoencoder.compile(\n",
    "    optimizer=\"adam\", loss=\"mse\", metrics=[\"mse\"]\n",
    ")  # Fit the autoencoder\n",
    "\n",
    "history = autoencoder.fit(\n",
    "    X_train_prepared,\n",
    "    X_train_prepared,\n",
    "    epochs=100,\n",
    "    batch_size=512,\n",
    "    validation_data=(X_test_prepared, X_test_prepared),\n",
    "    shuffle=True,\n",
    "    callbacks=[early_stopping, reduce_lr_on_plateau],\n",
    ")"
   ]
  },
  {
   "cell_type": "markdown",
   "id": "3f342275",
   "metadata": {},
   "source": [
    "# Learning curves"
   ]
  },
  {
   "cell_type": "code",
   "execution_count": null,
   "id": "d3ff1ed5",
   "metadata": {},
   "outputs": [],
   "source": [
    " fig, ax = plt.subplots(1, 1, figsize=(8, 4))\n",
    "\n",
    "metric = 'loss'\n",
    "ax.plot(history.history[f\"{metric}\"], label=\"training\")\n",
    "ax.plot(history.history[f\"val_{metric}\"], label=\"validation\")\n",
    "ax.set_title(f\"{metric}\")\n",
    "ax.legend()\n",
    "\n"
   ]
  },
  {
   "cell_type": "markdown",
   "id": "380d9253",
   "metadata": {},
   "source": [
    "# Anomaly Detection"
   ]
  },
  {
   "cell_type": "markdown",
   "id": "adebf096",
   "metadata": {},
   "source": [
    "## Get reconstruction errors during the training phase"
   ]
  },
  {
   "cell_type": "code",
   "execution_count": null,
   "id": "0382d530",
   "metadata": {},
   "outputs": [],
   "source": [
    "y_pred_train = autoencoder.predict(X_train_prepared)"
   ]
  },
  {
   "cell_type": "code",
   "execution_count": null,
   "id": "610bad47",
   "metadata": {},
   "outputs": [],
   "source": [
    "reconstruction_errors_training = tf.keras.losses.MeanSquaredError().call(\n",
    "    y_true=X_train_prepared, y_pred=y_pred_train\n",
    ")\n",
    "threshold = (\n",
    "    reconstruction_errors_training.numpy().mean()\n",
    "    + reconstruction_errors_training.numpy().std()\n",
    ")\n",
    "\n",
    "threshold"
   ]
  },
  {
   "cell_type": "markdown",
   "id": "f4f5af64",
   "metadata": {},
   "source": [
    "## Validation set"
   ]
  },
  {
   "cell_type": "code",
   "execution_count": null,
   "id": "9836b76d",
   "metadata": {},
   "outputs": [],
   "source": [
    "y_pred_test = autoencoder.predict(X_test_prepared)"
   ]
  },
  {
   "cell_type": "code",
   "execution_count": null,
   "id": "d3d65f2a",
   "metadata": {},
   "outputs": [],
   "source": [
    "# Get the mean absolute error between actual and reconstruction/prediction\n",
    "reconstruction_errors_test = tf.keras.losses.MeanSquaredError().call(\n",
    "    X_test_prepared, y_pred_test\n",
    ")\n",
    "reconstruction_errors_test.numpy()"
   ]
  },
  {
   "cell_type": "markdown",
   "id": "ae07f4b1",
   "metadata": {},
   "source": [
    "### Transactions in the test set with errors"
   ]
  },
  {
   "cell_type": "code",
   "execution_count": null,
   "id": "d007a0e0",
   "metadata": {},
   "outputs": [],
   "source": [
    "X_test[\"reconstruction_error\"] = reconstruction_errors_test"
   ]
  },
  {
   "cell_type": "code",
   "execution_count": null,
   "id": "6bc56244",
   "metadata": {},
   "outputs": [],
   "source": [
    "mask_error = X_test[\"Errors?\"] == X_test[\"Errors?\"]\n",
    "mask_errorless = X_test[\"Errors?\"] != X_test[\"Errors?\"]"
   ]
  },
  {
   "cell_type": "code",
   "execution_count": null,
   "id": "4040e43a",
   "metadata": {},
   "outputs": [],
   "source": [
    "transactions_with_errors_test = X_test[mask_error]\n",
    "transactions_without_errors_test = X_test[mask_errorless][:1581]\n",
    "\n",
    "sample = pd.concat(\n",
    "    [transactions_with_errors_test, transactions_without_errors_test], axis=0\n",
    ")\n",
    "sample.shape"
   ]
  },
  {
   "cell_type": "code",
   "execution_count": null,
   "id": "5512507f",
   "metadata": {},
   "outputs": [],
   "source": [
    "sample[\"reconstruction_error\"].describe()"
   ]
  },
  {
   "cell_type": "code",
   "execution_count": null,
   "id": "b2185f91",
   "metadata": {},
   "outputs": [],
   "source": [
    "reconstruction_error_mask = sample[\"reconstruction_error\"] < threshold\n",
    "sample = sample[reconstruction_error_mask]\n",
    "sample"
   ]
  },
  {
   "cell_type": "code",
   "execution_count": null,
   "id": "084a030d",
   "metadata": {},
   "outputs": [],
   "source": [
    "fig, ax = plt.subplots(1, 1, figsize=(16, 8))\n",
    "\n",
    "ax.plot(np.arange(0, len(sample[mask_error])), sample[mask_error]['reconstruction_error'].values)\n",
    "ax.plot(np.arange(0, len(sample[mask_errorless])), sample[mask_errorless]['reconstruction_error'].values)\n",
    "\n",
    "ax.axhline(threshold)\n"
   ]
  },
  {
   "cell_type": "markdown",
   "id": "eae0694d",
   "metadata": {},
   "source": [
    "# <font color='green'> TEST </font>"
   ]
  }
 ],
 "metadata": {
  "kernelspec": {
   "display_name": "Python 3 (ipykernel)",
   "language": "python",
   "name": "python3"
  },
  "language_info": {
   "codemirror_mode": {
    "name": "ipython",
    "version": 3
   },
   "file_extension": ".py",
   "mimetype": "text/x-python",
   "name": "python",
   "nbconvert_exporter": "python",
   "pygments_lexer": "ipython3",
   "version": "3.10.8"
  }
 },
 "nbformat": 4,
 "nbformat_minor": 5
}
