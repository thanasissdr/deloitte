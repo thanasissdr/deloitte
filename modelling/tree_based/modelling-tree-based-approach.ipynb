{
 "cells": [
  {
   "cell_type": "markdown",
   "id": "62b16ada",
   "metadata": {},
   "source": [
    "In this notebook we are going to explore the efficiency of some tree based approaches, namely:\n",
    "- RandomForestClassifier\n",
    "- BalancedRandomForestClassifier\n",
    "- LightGBM\n",
    "\n",
    "\n",
    "The reason for this appraoch is that they don't require as much preprocessing and they can work quite well with imbalanced data. Especially, `BalancedRandomForestClassifier` and Gradient Boost Methods (like `LightGBM`) could work potentially a bit better than simple `RandomForestsClassifiers`."
   ]
  },
  {
   "cell_type": "code",
   "execution_count": null,
   "id": "092e4ba8",
   "metadata": {},
   "outputs": [],
   "source": [
    "%load_ext nb_black"
   ]
  },
  {
   "cell_type": "code",
   "execution_count": null,
   "id": "32de676c",
   "metadata": {},
   "outputs": [],
   "source": [
    "import datetime as dt\n",
    "import os\n",
    "import os.path as osp\n",
    "from functools import wraps\n",
    "\n",
    "import lightgbm as lgb\n",
    "import matplotlib.pyplot as plt\n",
    "import numpy as np\n",
    "import pandas as pd\n",
    "import seaborn as sns\n",
    "\n",
    "try:\n",
    "    from sklearnex import patch_sklearn\n",
    "\n",
    "    patch_sklearn()\n",
    "except ImportError as e:\n",
    "    print(e)\n",
    "from imblearn.ensemble import BalancedRandomForestClassifier\n",
    "from imblearn.over_sampling import SMOTE\n",
    "from sklearn.compose import ColumnTransformer\n",
    "from sklearn.ensemble import RandomForestClassifier\n",
    "from sklearn.metrics import classification_report, confusion_matrix\n",
    "from sklearn.model_selection import RandomizedSearchCV, train_test_split\n",
    "from sklearn.pipeline import FunctionTransformer, FeatureUnion, Pipeline\n",
    "from sklearn.preprocessing import OneHotEncoder\n",
    "from sklearn.utils.class_weight import compute_class_weight, compute_sample_weight\n",
    "\n",
    "from sklearn.metrics import precision_recall_curve\n",
    "\n",
    "from helpers.read_file import read_feather\n",
    "from helpers.profiling import timing\n",
    "from helpers.series_list import bag_of_words_series, get_n_elements\n",
    "\n",
    "from modelling.utils.performance import (\n",
    "    get_classification_report,\n",
    "    plot_conf_matrix,\n",
    "    plot_precision_recall_curve_over_thresholds,\n",
    "    plot_precision_recall_curve,\n",
    ")\n",
    "from pipelines.preprocessing_pandas import (\n",
    "    extract_hour_str,\n",
    "    extract_weekday_timestamp,\n",
    "    frequency_encoding,\n",
    "    is_weekend,\n",
    "    remove_dollar_sign,\n",
    ")\n",
    "\n",
    "from pipelines.decorators import apply_function_to_row"
   ]
  },
  {
   "cell_type": "code",
   "execution_count": null,
   "id": "0cefbffc",
   "metadata": {},
   "outputs": [],
   "source": [
    "plt.style.use(\"ggplot\")"
   ]
  },
  {
   "cell_type": "markdown",
   "id": "63bea229",
   "metadata": {},
   "source": [
    "# Load data"
   ]
  },
  {
   "cell_type": "code",
   "execution_count": null,
   "id": "8b453156",
   "metadata": {},
   "outputs": [],
   "source": [
    "df = read_feather(\"../../data/train.fth\")\n",
    "df.head()"
   ]
  },
  {
   "cell_type": "code",
   "execution_count": null,
   "id": "9f5f430e",
   "metadata": {},
   "outputs": [],
   "source": [
    "df[\"date\"] = df.apply(\n",
    "    lambda row: dt.datetime(int(row[\"Year\"]), int(row[\"Month\"]), int(row[\"Day\"])),\n",
    "    axis=1,\n",
    ")"
   ]
  },
  {
   "cell_type": "code",
   "execution_count": null,
   "id": "fd3a3648",
   "metadata": {},
   "outputs": [],
   "source": [
    "df[\"Merchant State\"] = df[\"Merchant State\"].fillna(\"\")"
   ]
  },
  {
   "cell_type": "code",
   "execution_count": null,
   "id": "0a4476fd",
   "metadata": {},
   "outputs": [],
   "source": [
    "labels_error_indicator = pd.Series(\n",
    "    np.where(df[\"Errors?\"] == df[\"Errors?\"], 1, 0), name=\"errors_indicator\"\n",
    ")"
   ]
  },
  {
   "cell_type": "code",
   "execution_count": null,
   "id": "2151960b",
   "metadata": {},
   "outputs": [],
   "source": [
    "X = df\n",
    "y = labels_error_indicator"
   ]
  },
  {
   "cell_type": "markdown",
   "id": "4e34eb4b",
   "metadata": {},
   "source": [
    "# Split train, test sets"
   ]
  },
  {
   "cell_type": "code",
   "execution_count": null,
   "id": "b737b103",
   "metadata": {},
   "outputs": [],
   "source": [
    "X_train, X_test, y_train, y_test = train_test_split(\n",
    "    X, y, stratify=y, test_size=0.2, random_state=42\n",
    ")"
   ]
  },
  {
   "cell_type": "markdown",
   "id": "ed1fe1a8",
   "metadata": {},
   "source": [
    "# Preprocessing data/creating pipelines"
   ]
  },
  {
   "cell_type": "code",
   "execution_count": null,
   "id": "06aa9fc2",
   "metadata": {},
   "outputs": [],
   "source": [
    "frequency_encoding_fn = FunctionTransformer(\n",
    "    frequency_encoding, kw_args={\"normalize\": False}\n",
    ")\n",
    "ohe = OneHotEncoder(handle_unknown=\"ignore\")"
   ]
  },
  {
   "cell_type": "markdown",
   "id": "9885e406",
   "metadata": {},
   "source": [
    "## Card"
   ]
  },
  {
   "cell_type": "markdown",
   "id": "b098a7f7",
   "metadata": {},
   "source": [
    "## Time"
   ]
  },
  {
   "cell_type": "markdown",
   "id": "dbfc8717",
   "metadata": {},
   "source": [
    "### Hour"
   ]
  },
  {
   "cell_type": "code",
   "execution_count": null,
   "id": "7adecc74",
   "metadata": {},
   "outputs": [],
   "source": [
    "TIME_FORMAT = \"%H:%M\""
   ]
  },
  {
   "cell_type": "code",
   "execution_count": null,
   "id": "8089caa1",
   "metadata": {},
   "outputs": [],
   "source": [
    "hour_pipeline = Pipeline(\n",
    "    [\n",
    "        (\n",
    "            \"extract_hour\",\n",
    "            FunctionTransformer(extract_hour_str, kw_args={\"time_format\": TIME_FORMAT}),\n",
    "        ),\n",
    "        (\"ohe\", ohe),\n",
    "    ]\n",
    ")"
   ]
  },
  {
   "cell_type": "markdown",
   "id": "17c7c601",
   "metadata": {},
   "source": [
    "### Weekday"
   ]
  },
  {
   "cell_type": "code",
   "execution_count": null,
   "id": "f4502d39",
   "metadata": {},
   "outputs": [],
   "source": [
    "weekday_pipeline = Pipeline(\n",
    "    [\n",
    "        (\n",
    "            \"extract_weekday\",\n",
    "            FunctionTransformer(extract_weekday_timestamp),\n",
    "        ),\n",
    "        (\"ohe\", ohe),\n",
    "    ]\n",
    ")\n"
   ]
  },
  {
   "cell_type": "markdown",
   "id": "075a4409",
   "metadata": {},
   "source": [
    "## Amount"
   ]
  },
  {
   "cell_type": "code",
   "execution_count": null,
   "id": "7a5033c2",
   "metadata": {},
   "outputs": [],
   "source": [
    "amount_pipeline = Pipeline(\n",
    "    [(\"remove_dollar_sign\", FunctionTransformer(remove_dollar_sign))]\n",
    ")\n"
   ]
  },
  {
   "cell_type": "markdown",
   "id": "080950af",
   "metadata": {},
   "source": [
    "## Use chip"
   ]
  },
  {
   "cell_type": "code",
   "execution_count": null,
   "id": "874df278",
   "metadata": {},
   "outputs": [],
   "source": [
    "use_chip_pipeline = ohe"
   ]
  },
  {
   "cell_type": "markdown",
   "id": "7e35c674",
   "metadata": {},
   "source": [
    "## Merchant name"
   ]
  },
  {
   "cell_type": "code",
   "execution_count": null,
   "id": "f88fed34",
   "metadata": {},
   "outputs": [],
   "source": [
    "merchant_name_pipeline = Pipeline(\n",
    "    [\n",
    "         (\n",
    "            \"merchant_name\", frequency_encoding_fn),\n",
    "        \n",
    "    ]\n",
    ")\n"
   ]
  },
  {
   "cell_type": "markdown",
   "id": "f81ccf99",
   "metadata": {},
   "source": [
    "## Merchant city"
   ]
  },
  {
   "cell_type": "code",
   "execution_count": null,
   "id": "801f0bcc",
   "metadata": {},
   "outputs": [],
   "source": [
    "merchant_city_pipeline = Pipeline(\n",
    "    [\n",
    "        (\n",
    "            \"merchant_city\",\n",
    "            frequency_encoding_fn,\n",
    "        ),\n",
    "    ]\n",
    ")"
   ]
  },
  {
   "cell_type": "markdown",
   "id": "c792f3d9",
   "metadata": {},
   "source": [
    "## Merchant state"
   ]
  },
  {
   "cell_type": "code",
   "execution_count": null,
   "id": "1306119d",
   "metadata": {},
   "outputs": [],
   "source": [
    "merchant_state_pipeline = Pipeline(\n",
    "    [\n",
    "        (\n",
    "            \"merchant_state\",\n",
    "            frequency_encoding_fn,\n",
    "        ),\n",
    "    ]\n",
    ")"
   ]
  },
  {
   "cell_type": "markdown",
   "id": "a5bcd78a",
   "metadata": {},
   "source": [
    "## MCC"
   ]
  },
  {
   "cell_type": "code",
   "execution_count": null,
   "id": "a0303c04",
   "metadata": {},
   "outputs": [],
   "source": [
    "mcc_pipeline = Pipeline(\n",
    "    [\n",
    "        (\n",
    "            \"mcc\",\n",
    "            frequency_encoding_fn,\n",
    "        )\n",
    "    ]\n",
    ")"
   ]
  },
  {
   "cell_type": "markdown",
   "id": "fe9ddd5d",
   "metadata": {},
   "source": [
    "## Creating pipeline"
   ]
  },
  {
   "cell_type": "code",
   "execution_count": null,
   "id": "cf7d3505",
   "metadata": {},
   "outputs": [],
   "source": [
    "pipeline = ColumnTransformer(\n",
    "    [\n",
    "        #         (\"Card\", card_pipeline, [\"Card\"]),\n",
    "        (\"Amount\", amount_pipeline, \"Amount\"),\n",
    "        (\"Weekday\", weekday_pipeline, \"date\"),\n",
    "        (\"Hour\", hour_pipeline, \"Time\"),\n",
    "        (\"Use Chip\", use_chip_pipeline, [\"Use Chip\"]),\n",
    "        (\"Merchant Name\", merchant_name_pipeline, \"Merchant Name\"),\n",
    "        (\"Merchant City\", merchant_city_pipeline, \"Merchant City\"),\n",
    "        (\"Merchant State\", merchant_state_pipeline, \"Merchant State\"),\n",
    "        (\"MCC\", mcc_pipeline, \"MCC\"),\n",
    "    ]\n",
    ")"
   ]
  },
  {
   "cell_type": "code",
   "execution_count": null,
   "id": "011a4766",
   "metadata": {},
   "outputs": [],
   "source": [
    "X_train[y_train == 1][:10]"
   ]
  },
  {
   "cell_type": "code",
   "execution_count": null,
   "id": "a6fc682f",
   "metadata": {},
   "outputs": [],
   "source": [
    "X_train_prepared = pipeline.fit_transform(X_train)"
   ]
  },
  {
   "cell_type": "code",
   "execution_count": null,
   "id": "c966d69a",
   "metadata": {},
   "outputs": [],
   "source": [
    "X_test_prepared = pipeline.transform(X_test)"
   ]
  },
  {
   "cell_type": "markdown",
   "id": "2ea7c848",
   "metadata": {},
   "source": [
    "# Modelling"
   ]
  },
  {
   "cell_type": "code",
   "execution_count": null,
   "id": "f25f0095",
   "metadata": {},
   "outputs": [],
   "source": [
    "weights = compute_class_weight(class_weight=\"balanced\", classes=[0, 1], y=y_train)\n",
    "weights"
   ]
  },
  {
   "cell_type": "markdown",
   "id": "3f14b09d",
   "metadata": {},
   "source": [
    "## Hyperparameter tuning\n",
    "\n",
    "Here, we are using `RandomizedSearchCV` ( a better option might be `skopt.BayesSearchCV`) and testing only a few hyperparameters (although we could add more)."
   ]
  },
  {
   "cell_type": "code",
   "execution_count": null,
   "id": "64bd6402",
   "metadata": {},
   "outputs": [],
   "source": [
    "RESAMPLING = False\n",
    "if RESAMPLING:\n",
    "    method = SMOTE()\n",
    "    X_train_prepared, y_train = method.fit_resample(X_train_prepared, y_train)"
   ]
  },
  {
   "cell_type": "markdown",
   "id": "c5d2e01c",
   "metadata": {},
   "source": [
    "### Models"
   ]
  },
  {
   "cell_type": "code",
   "execution_count": null,
   "id": "b57afd84",
   "metadata": {},
   "outputs": [],
   "source": [
    "models = {\n",
    "    \"random_forest\": {\n",
    "        \"clf\": RandomForestClassifier(random_state=42),\n",
    "        \"param_distributions\": {\n",
    "            \"n_estimators\": [50, 100, 200],\n",
    "            \"max_depth\": [10, 30, 100],\n",
    "        },\n",
    "    },\n",
    "    \"lgb\": {\n",
    "        \"clf\": lgb.LGBMClassifier(\n",
    "            objective=\"binary\",\n",
    "            learning_rate=0.01,\n",
    "            class_weight={0: 1, 1: 20},\n",
    "            random_state=42,\n",
    "        ),\n",
    "        \"param_distributions\": {\n",
    "            #             \"n_estimators\": [50, 100, 200],\n",
    "            #             \"max_depth\": [10, 30, 100],\n",
    "        },\n",
    "    },\n",
    "    \"balanced_tree\": {\n",
    "        \"clf\": BalancedRandomForestClassifier(random_state=42),\n",
    "        \"param_distributions\": {\n",
    "            \"n_estimators\": [50, 100, 200],\n",
    "            \"max_depth\": [10, 30, 100],\n",
    "        },\n",
    "    },\n",
    "}"
   ]
  },
  {
   "cell_type": "code",
   "execution_count": null,
   "id": "3ae14d55",
   "metadata": {},
   "outputs": [],
   "source": [
    "def get_model(model: str, scoring=\"f1\", cv=2, verbose=3, n_jobs=-1):\n",
    "\n",
    "    selected_model = models[model]\n",
    "\n",
    "    rnd_search = RandomizedSearchCV(\n",
    "        estimator=selected_model[\"clf\"],\n",
    "        param_distributions=selected_model[\"param_distributions\"],\n",
    "        cv=cv,\n",
    "        n_jobs=n_jobs,\n",
    "        verbose=verbose,\n",
    "        random_state=42,\n",
    "        scoring=scoring,\n",
    "    )\n",
    "\n",
    "    return rnd_search\n",
    "\n",
    "\n"
   ]
  },
  {
   "cell_type": "code",
   "execution_count": null,
   "id": "71064078",
   "metadata": {},
   "outputs": [],
   "source": [
    "rnd_search = get_model(\"lgb\")\n",
    "rnd_search.fit(X_train_prepared, y_train)"
   ]
  },
  {
   "cell_type": "code",
   "execution_count": null,
   "id": "5bc05884",
   "metadata": {},
   "outputs": [],
   "source": [
    "rnd_search.best_params_"
   ]
  },
  {
   "cell_type": "code",
   "execution_count": null,
   "id": "ca180978",
   "metadata": {},
   "outputs": [],
   "source": [
    "pd.DataFrame(rnd_search.cv_results_).sort_values(\"rank_test_score\")"
   ]
  },
  {
   "cell_type": "markdown",
   "id": "84558ab2",
   "metadata": {},
   "source": [
    "## Feature importance"
   ]
  },
  {
   "cell_type": "code",
   "execution_count": null,
   "id": "9d3105fd",
   "metadata": {},
   "outputs": [],
   "source": [
    "rnd_search.best_estimator_.feature_importances_"
   ]
  },
  {
   "cell_type": "code",
   "execution_count": null,
   "id": "5a30a858",
   "metadata": {},
   "outputs": [],
   "source": [
    "pd.Series(rnd_search.best_estimator_.feature_importances_).plot(kind=\"barh\")"
   ]
  },
  {
   "cell_type": "markdown",
   "id": "a33948a7",
   "metadata": {},
   "source": [
    "# Performance on training set"
   ]
  },
  {
   "cell_type": "code",
   "execution_count": null,
   "id": "951761ab",
   "metadata": {},
   "outputs": [],
   "source": [
    "CLASSES = [\"errorless\", \"errors\"]"
   ]
  },
  {
   "cell_type": "code",
   "execution_count": null,
   "id": "9d8a292b",
   "metadata": {},
   "outputs": [],
   "source": [
    "y_train_pred = rnd_search.predict(X_train_prepared)"
   ]
  },
  {
   "cell_type": "code",
   "execution_count": null,
   "id": "b8a2b4f8",
   "metadata": {},
   "outputs": [],
   "source": [
    "get_classification_report(y_train, y_train_pred, digits=4, classes=CLASSES)"
   ]
  },
  {
   "cell_type": "code",
   "execution_count": null,
   "id": "99eba2a6",
   "metadata": {},
   "outputs": [],
   "source": [
    "conf_matrix = confusion_matrix(y_true=y_train, y_pred=y_train_pred)\n",
    "plot_conf_matrix(conf_matrix, figsize=(5, 4), classes=CLASSES)"
   ]
  },
  {
   "cell_type": "code",
   "execution_count": null,
   "id": "9c278d58",
   "metadata": {},
   "outputs": [],
   "source": [
    "56 / (56 + 22)"
   ]
  },
  {
   "cell_type": "markdown",
   "id": "0bccbf7e",
   "metadata": {},
   "source": [
    "# Performance on test set"
   ]
  },
  {
   "cell_type": "code",
   "execution_count": null,
   "id": "8d9c524d",
   "metadata": {},
   "outputs": [],
   "source": [
    "y_test_pred = rnd_search.predict(X_test_prepared)\n",
    "get_classification_report(y_test, y_test_pred, classes=CLASSES)"
   ]
  },
  {
   "cell_type": "code",
   "execution_count": null,
   "id": "99ab4860",
   "metadata": {},
   "outputs": [],
   "source": [
    "conf_matrix = confusion_matrix(y_true=y_test, y_pred=y_test_pred)\n",
    "plot_conf_matrix(conf_matrix)"
   ]
  },
  {
   "cell_type": "markdown",
   "id": "e857e180",
   "metadata": {},
   "source": [
    "## Record performance"
   ]
  },
  {
   "cell_type": "markdown",
   "id": "d7946cf5",
   "metadata": {},
   "source": [
    "### Random Forest\n"
   ]
  },
  {
   "cell_type": "markdown",
   "id": "b37b5ec9",
   "metadata": {},
   "source": [
    "### LGB\n",
    "\n",
    "\n",
    "\n",
    "\n"
   ]
  },
  {
   "cell_type": "markdown",
   "id": "ace3ba5c",
   "metadata": {},
   "source": [
    "### Balanced Random Forest Classifier\n",
    "\n",
    "\n",
    "\n"
   ]
  },
  {
   "cell_type": "markdown",
   "id": "9f378dcb",
   "metadata": {},
   "source": [
    "## Precision recall curves"
   ]
  },
  {
   "cell_type": "code",
   "execution_count": null,
   "id": "55275e37",
   "metadata": {},
   "outputs": [],
   "source": [
    "y_test_pred_proba = rnd_search.predict_proba(X_test_prepared)[:, 1]\n",
    "\n",
    "precisions, recalls, thresholds = precision_recall_curve(\n",
    "    y_true=y_test, probas_pred=y_test_pred_proba\n",
    ")"
   ]
  },
  {
   "cell_type": "code",
   "execution_count": null,
   "id": "559bb5f1",
   "metadata": {},
   "outputs": [],
   "source": [
    "ax = plot_precision_recall_curve_over_thresholds(precisions, recalls, thresholds)\n",
    "ax.vlines(0.5, ymin=0, ymax=1, color=\"orange\", linestyle=\"--\", alpha=0.5)\n"
   ]
  },
  {
   "cell_type": "code",
   "execution_count": null,
   "id": "b781f0e9",
   "metadata": {},
   "outputs": [],
   "source": [
    "ax = plot_precision_recall_curve(precisions, recalls)"
   ]
  },
  {
   "cell_type": "markdown",
   "id": "f61cafd0",
   "metadata": {},
   "source": [
    "# Error analysis"
   ]
  },
  {
   "cell_type": "markdown",
   "id": "c6bae152",
   "metadata": {},
   "source": [
    "# <font color=\"green\"> TEST </font>"
   ]
  }
 ],
 "metadata": {
  "kernelspec": {
   "display_name": "Python 3 (ipykernel)",
   "language": "python",
   "name": "python3"
  },
  "language_info": {
   "codemirror_mode": {
    "name": "ipython",
    "version": 3
   },
   "file_extension": ".py",
   "mimetype": "text/x-python",
   "name": "python",
   "nbconvert_exporter": "python",
   "pygments_lexer": "ipython3",
   "version": "3.10.8"
  },
  "vscode": {
   "interpreter": {
    "hash": "76f861c7feb1da95be76a358ef5afddcf219660be3d0d83c2e26ea4cc7433a80"
   }
  }
 },
 "nbformat": 4,
 "nbformat_minor": 5
}
